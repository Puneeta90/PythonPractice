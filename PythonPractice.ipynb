{
  "nbformat": 4,
  "nbformat_minor": 0,
  "metadata": {
    "colab": {
      "name": "PythonPractice.ipynb",
      "provenance": [],
      "authorship_tag": "ABX9TyMLtVNu+pztms6+IqI6B+nu",
      "include_colab_link": true
    },
    "kernelspec": {
      "name": "python3",
      "display_name": "Python 3"
    }
  },
  "cells": [
    {
      "cell_type": "markdown",
      "metadata": {
        "id": "view-in-github",
        "colab_type": "text"
      },
      "source": [
        "<a href=\"https://colab.research.google.com/github/Puneeta90/PythonPractice/blob/main/PythonPractice.ipynb\" target=\"_parent\"><img src=\"https://colab.research.google.com/assets/colab-badge.svg\" alt=\"Open In Colab\"/></a>"
      ]
    },
    {
      "cell_type": "code",
      "metadata": {
        "id": "ACKx1AME5bKg"
      },
      "source": [
        "tup=('a','c','d')"
      ],
      "execution_count": 8,
      "outputs": []
    },
    {
      "cell_type": "code",
      "metadata": {
        "colab": {
          "base_uri": "https://localhost:8080/"
        },
        "id": "Yx2SEcQv5fQz",
        "outputId": "4e33d4e9-39d1-4b1b-f01c-3e56aad4ddf9"
      },
      "source": [
        "sorted(tup)"
      ],
      "execution_count": 9,
      "outputs": [
        {
          "output_type": "execute_result",
          "data": {
            "text/plain": [
              "['a', 'c', 'd']"
            ]
          },
          "metadata": {
            "tags": []
          },
          "execution_count": 9
        }
      ]
    },
    {
      "cell_type": "code",
      "metadata": {
        "id": "menV3tqG5oDH"
      },
      "source": [
        "lst=[2,8,3]"
      ],
      "execution_count": 20,
      "outputs": []
    },
    {
      "cell_type": "code",
      "metadata": {
        "colab": {
          "base_uri": "https://localhost:8080/"
        },
        "id": "ihhK52RY6Azu",
        "outputId": "3eaef08d-eaef-481b-ae36-c321fe9b8688"
      },
      "source": [
        "lst.sort()\r\n",
        "print(lst)"
      ],
      "execution_count": 23,
      "outputs": [
        {
          "output_type": "stream",
          "text": [
            "[2, 3, 8]\n"
          ],
          "name": "stdout"
        }
      ]
    },
    {
      "cell_type": "code",
      "metadata": {
        "id": "TSTp_rAj6B_Y"
      },
      "source": [
        "dictionary={tup:[1,2,3]}"
      ],
      "execution_count": 24,
      "outputs": []
    },
    {
      "cell_type": "code",
      "metadata": {
        "colab": {
          "base_uri": "https://localhost:8080/"
        },
        "id": "skEv6_rp6tt4",
        "outputId": "16da9029-74f1-405c-ae6c-c6e254bb60e2"
      },
      "source": [
        "print(dictionary)"
      ],
      "execution_count": 25,
      "outputs": [
        {
          "output_type": "stream",
          "text": [
            "{('a', 'c', 'd'): [1, 2, 3]}\n"
          ],
          "name": "stdout"
        }
      ]
    },
    {
      "cell_type": "code",
      "metadata": {
        "colab": {
          "base_uri": "https://localhost:8080/"
        },
        "id": "oMzYfPwN6vpe",
        "outputId": "772b0fb6-134a-46a3-d347-28878674b856"
      },
      "source": [
        "for i in dictionary.keys():\r\n",
        "  print(i)"
      ],
      "execution_count": 30,
      "outputs": [
        {
          "output_type": "stream",
          "text": [
            "('a', 'c', 'd')\n"
          ],
          "name": "stdout"
        }
      ]
    },
    {
      "cell_type": "code",
      "metadata": {
        "colab": {
          "base_uri": "https://localhost:8080/"
        },
        "id": "8W1xb06N60wY",
        "outputId": "5c1e808d-f6dd-46f6-ca1d-4b45510d08ed"
      },
      "source": [
        "#dictionary.get(('a','c','d'))\r\n",
        "\r\n",
        "dictionary[('a','c','d')]"
      ],
      "execution_count": 37,
      "outputs": [
        {
          "output_type": "execute_result",
          "data": {
            "text/plain": [
              "[1, 2, 3]"
            ]
          },
          "metadata": {
            "tags": []
          },
          "execution_count": 37
        }
      ]
    },
    {
      "cell_type": "code",
      "metadata": {
        "colab": {
          "base_uri": "https://localhost:8080/"
        },
        "id": "R_bm0JXo7BTw",
        "outputId": "f98e64d2-1444-4c39-ce0c-271be9cadb86"
      },
      "source": [
        "a=10\r\n",
        "b=20\r\n",
        "max(a,b)"
      ],
      "execution_count": 39,
      "outputs": [
        {
          "output_type": "execute_result",
          "data": {
            "text/plain": [
              "20"
            ]
          },
          "metadata": {
            "tags": []
          },
          "execution_count": 39
        }
      ]
    },
    {
      "cell_type": "code",
      "metadata": {
        "colab": {
          "base_uri": "https://localhost:8080/"
        },
        "id": "0YJ1E9HE-5vb",
        "outputId": "491deaa2-3285-4773-fa7b-25e8cf1d46e3"
      },
      "source": [
        "#factorial\r\n",
        "def fact(num):\r\n",
        "  if num==0 or num==1:\r\n",
        "    return 1\r\n",
        "  else:\r\n",
        "    fct=num*fact(num-1)\r\n",
        "    return fct\r\n",
        "\r\n",
        "fact(4)\r\n"
      ],
      "execution_count": 52,
      "outputs": [
        {
          "output_type": "execute_result",
          "data": {
            "text/plain": [
              "24"
            ]
          },
          "metadata": {
            "tags": []
          },
          "execution_count": 52
        }
      ]
    },
    {
      "cell_type": "code",
      "metadata": {
        "colab": {
          "base_uri": "https://localhost:8080/"
        },
        "id": "eN0nwO0P_Ui_",
        "outputId": "b6547b81-52ae-4c4f-8008-142464495126"
      },
      "source": [
        "#armstrong number\r\n",
        "def arm_num(num):\r\n",
        "  s_num=str(num)\r\n",
        "  sum=0\r\n",
        "  for i in s_num:\r\n",
        "    sum=sum+pow(int(i),len(s_num))\r\n",
        "  if sum==num:\r\n",
        "    return \"{} is an armstrong number\".format(num)\r\n",
        "  else:\r\n",
        "    return \"{} is not an armstrong number\".format(num)\r\n",
        "\r\n",
        "print(arm_num(153))\r\n"
      ],
      "execution_count": 63,
      "outputs": [
        {
          "output_type": "stream",
          "text": [
            "153 is an armstrong number\n"
          ],
          "name": "stdout"
        }
      ]
    },
    {
      "cell_type": "code",
      "metadata": {
        "colab": {
          "base_uri": "https://localhost:8080/"
        },
        "id": "kV_YUSe2B1CE",
        "outputId": "0f2aa488-a0db-4975-f0e1-56e72fbafbd3"
      },
      "source": [
        "num=1652\r\n",
        "\r\n",
        "def split_num(num):\r\n",
        "  rev=0\r\n",
        "  while num>0:\r\n",
        "    rev=rev*10+num%10\r\n",
        "    num=num//10\r\n",
        "  print(rev)\r\n",
        "\r\n",
        "split_num(1562)"
      ],
      "execution_count": 76,
      "outputs": [
        {
          "output_type": "stream",
          "text": [
            "2651\n"
          ],
          "name": "stdout"
        }
      ]
    },
    {
      "cell_type": "code",
      "metadata": {
        "colab": {
          "base_uri": "https://localhost:8080/"
        },
        "id": "xRavCmqPS04l",
        "outputId": "bd157b93-5860-44b8-8009-fd5ef659425f"
      },
      "source": [
        "def arm_num(num1):\r\n",
        "  num=split_num(num1)\r\n",
        "  sum=0\r\n",
        "  for i in num:\r\n",
        "    sum=sum+pow(i,len(num))\r\n",
        "  if sum==num1:\r\n",
        "    return \"{} is an armstrong number\".format(num1)\r\n",
        "  else:\r\n",
        "    return \"{} is not an armstrong number\".format(num1)\r\n",
        "\r\n",
        "def split_num(num):\r\n",
        "   rev,i=0,0\r\n",
        "   s_num=[]\r\n",
        "   while num>0:\r\n",
        "     s_num.append(rev*10+num%10)\r\n",
        "     num=num//10\r\n",
        "     i=i+1\r\n",
        "   return s_num\r\n",
        "\r\n",
        "print(arm_num(153))\r\n"
      ],
      "execution_count": 106,
      "outputs": [
        {
          "output_type": "stream",
          "text": [
            "153 is an armstrong number\n"
          ],
          "name": "stdout"
        }
      ]
    },
    {
      "cell_type": "code",
      "metadata": {
        "colab": {
          "base_uri": "https://localhost:8080/"
        },
        "id": "JlpW-cunWWbJ",
        "outputId": "604cea7a-8c51-4302-d9b3-0c8e6d2f42d1"
      },
      "source": [
        "def prime(num1,num2):\r\n",
        "  if num1>num2:\r\n",
        "    num1,num2=num2,num1\r\n",
        "  elif num1==1:\r\n",
        "    num1=2\r\n",
        "  prime=[]\r\n",
        "  for i in range(num1,num2+1):\r\n",
        "    not_prime=0\r\n",
        "    for j in range(2,i//2+1):\r\n",
        "      if i%j==0:\r\n",
        "        not_prime=1\r\n",
        "        exit\r\n",
        "    if not_prime==0:\r\n",
        "      prime.append(i)\r\n",
        "  return prime\r\n",
        "\r\n",
        "prime(1,20)\r\n"
      ],
      "execution_count": 25,
      "outputs": [
        {
          "output_type": "execute_result",
          "data": {
            "text/plain": [
              "[2, 3, 5, 7, 11, 13, 17, 19]"
            ]
          },
          "metadata": {
            "tags": []
          },
          "execution_count": 25
        }
      ]
    },
    {
      "cell_type": "code",
      "metadata": {
        "colab": {
          "base_uri": "https://localhost:8080/"
        },
        "id": "dLTN8z1fCdrA",
        "outputId": "b808605f-4fa0-4316-85c6-15b5cd3ce607"
      },
      "source": [
        "start=10\r\n",
        "end=20\r\n",
        "\r\n",
        "for i in range(start,end):\r\n",
        "  if i>1:\r\n",
        "    for j in range(2,i//2+1):\r\n",
        "        if(i % j==0):\r\n",
        "            break\r\n",
        "    else:\r\n",
        "        print(i)"
      ],
      "execution_count": 32,
      "outputs": [
        {
          "output_type": "stream",
          "text": [
            "11\n",
            "13\n",
            "17\n",
            "19\n"
          ],
          "name": "stdout"
        }
      ]
    },
    {
      "cell_type": "code",
      "metadata": {
        "colab": {
          "base_uri": "https://localhost:8080/"
        },
        "id": "knqRgQFGHE-u",
        "outputId": "c5139b7e-3b62-4570-e7c0-a49a51d05ff6"
      },
      "source": [
        "# 011235813\r\n",
        "\r\n",
        "num=10\r\n",
        "prev=0\r\n",
        "curr=1\r\n",
        "print(prev)\r\n",
        "for i in range(1,11):\r\n",
        "  print(curr)\r\n",
        "  sum=prev+curr\r\n",
        "  prev=curr\r\n",
        "  curr=sum\r\n",
        "\r\n"
      ],
      "execution_count": 34,
      "outputs": [
        {
          "output_type": "stream",
          "text": [
            "0\n",
            "1\n",
            "1\n",
            "2\n",
            "3\n",
            "5\n",
            "8\n",
            "13\n",
            "21\n",
            "34\n",
            "55\n"
          ],
          "name": "stdout"
        }
      ]
    },
    {
      "cell_type": "code",
      "metadata": {
        "id": "aosKWA3tJ02B"
      },
      "source": [
        ""
      ],
      "execution_count": null,
      "outputs": []
    }
  ]
}